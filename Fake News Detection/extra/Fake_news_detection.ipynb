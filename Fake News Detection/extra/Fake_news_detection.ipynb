{
 "cells": [
  {
   "cell_type": "code",
   "execution_count": 3,
   "id": "5bed439e-d3a8-4d8e-8533-2ac6ff101c29",
   "metadata": {},
   "outputs": [],
   "source": [
    "import numpy as np\n",
    "import pandas as pd\n",
    "import matplotlib.pyplot as plt\n",
    "from sklearn.model_selection import train_test_split\n",
    "from sklearn.ensemble import RandomForestClassifier\n",
    "from sklearn.naive_bayes import GaussianNB\n",
    "import tensorflow as tf\n",
    "from keras.layers import Dense,Dropout,LSTM\n",
    "from keras.models import Sequential\n",
    "from sklearn.metrics import accuracy_score, f1_score, precision_score\n",
    "import warnings \n",
    "warnings.filterwarnings(\"ignore\")"
   ]
  },
  {
   "cell_type": "code",
   "execution_count": 4,
   "id": "0cd2aad5-89bc-4c5c-aa54-23261f71e633",
   "metadata": {},
   "outputs": [],
   "source": [
    "from nltk.stem import PorterStemmer   #reduceing inflection\n",
    "from nltk.tokenize import word_tokenize   # word tokenization\n",
    "from nltk.corpus import stopwords\n",
    "\n",
    "\n",
    "from sklearn.feature_extraction.text import TfidfVectorizer    # for vectors\n",
    "from gensim.models import Word2Vec   #for vectors"
   ]
  },
  {
   "cell_type": "code",
   "execution_count": 5,
   "id": "2c7f75ac-31fa-498e-9ec2-24f3ea89233d",
   "metadata": {},
   "outputs": [],
   "source": [
    "data = pd.read_csv(\"train.csv\")"
   ]
  },
  {
   "cell_type": "code",
   "execution_count": 6,
   "id": "26a89851-55d0-43ad-838f-d7b2df4d5333",
   "metadata": {},
   "outputs": [
    {
     "data": {
      "text/html": [
       "<div>\n",
       "<style scoped>\n",
       "    .dataframe tbody tr th:only-of-type {\n",
       "        vertical-align: middle;\n",
       "    }\n",
       "\n",
       "    .dataframe tbody tr th {\n",
       "        vertical-align: top;\n",
       "    }\n",
       "\n",
       "    .dataframe thead th {\n",
       "        text-align: right;\n",
       "    }\n",
       "</style>\n",
       "<table border=\"1\" class=\"dataframe\">\n",
       "  <thead>\n",
       "    <tr style=\"text-align: right;\">\n",
       "      <th></th>\n",
       "      <th>id</th>\n",
       "      <th>title</th>\n",
       "      <th>author</th>\n",
       "      <th>text</th>\n",
       "      <th>label</th>\n",
       "    </tr>\n",
       "  </thead>\n",
       "  <tbody>\n",
       "    <tr>\n",
       "      <th>0</th>\n",
       "      <td>0</td>\n",
       "      <td>House Dem Aide: We Didn’t Even See Comey’s Let...</td>\n",
       "      <td>Darrell Lucus</td>\n",
       "      <td>House Dem Aide: We Didn’t Even See Comey’s Let...</td>\n",
       "      <td>1</td>\n",
       "    </tr>\n",
       "    <tr>\n",
       "      <th>1</th>\n",
       "      <td>1</td>\n",
       "      <td>FLYNN: Hillary Clinton, Big Woman on Campus - ...</td>\n",
       "      <td>Daniel J. Flynn</td>\n",
       "      <td>Ever get the feeling your life circles the rou...</td>\n",
       "      <td>0</td>\n",
       "    </tr>\n",
       "    <tr>\n",
       "      <th>2</th>\n",
       "      <td>2</td>\n",
       "      <td>Why the Truth Might Get You Fired</td>\n",
       "      <td>Consortiumnews.com</td>\n",
       "      <td>Why the Truth Might Get You Fired October 29, ...</td>\n",
       "      <td>1</td>\n",
       "    </tr>\n",
       "    <tr>\n",
       "      <th>3</th>\n",
       "      <td>3</td>\n",
       "      <td>15 Civilians Killed In Single US Airstrike Hav...</td>\n",
       "      <td>Jessica Purkiss</td>\n",
       "      <td>Videos 15 Civilians Killed In Single US Airstr...</td>\n",
       "      <td>1</td>\n",
       "    </tr>\n",
       "    <tr>\n",
       "      <th>4</th>\n",
       "      <td>4</td>\n",
       "      <td>Iranian woman jailed for fictional unpublished...</td>\n",
       "      <td>Howard Portnoy</td>\n",
       "      <td>Print \\nAn Iranian woman has been sentenced to...</td>\n",
       "      <td>1</td>\n",
       "    </tr>\n",
       "  </tbody>\n",
       "</table>\n",
       "</div>"
      ],
      "text/plain": [
       "   id                                              title              author  \\\n",
       "0   0  House Dem Aide: We Didn’t Even See Comey’s Let...       Darrell Lucus   \n",
       "1   1  FLYNN: Hillary Clinton, Big Woman on Campus - ...     Daniel J. Flynn   \n",
       "2   2                  Why the Truth Might Get You Fired  Consortiumnews.com   \n",
       "3   3  15 Civilians Killed In Single US Airstrike Hav...     Jessica Purkiss   \n",
       "4   4  Iranian woman jailed for fictional unpublished...      Howard Portnoy   \n",
       "\n",
       "                                                text  label  \n",
       "0  House Dem Aide: We Didn’t Even See Comey’s Let...      1  \n",
       "1  Ever get the feeling your life circles the rou...      0  \n",
       "2  Why the Truth Might Get You Fired October 29, ...      1  \n",
       "3  Videos 15 Civilians Killed In Single US Airstr...      1  \n",
       "4  Print \\nAn Iranian woman has been sentenced to...      1  "
      ]
     },
     "execution_count": 6,
     "metadata": {},
     "output_type": "execute_result"
    }
   ],
   "source": [
    "data.head()"
   ]
  },
  {
   "cell_type": "code",
   "execution_count": 7,
   "id": "c7332329-efaf-46ef-9414-55366d5ea9d0",
   "metadata": {},
   "outputs": [
    {
     "data": {
      "text/plain": [
       "(20800, 5)"
      ]
     },
     "execution_count": 7,
     "metadata": {},
     "output_type": "execute_result"
    }
   ],
   "source": [
    "data.shape"
   ]
  },
  {
   "cell_type": "code",
   "execution_count": 8,
   "id": "0738aff2-bf24-4e65-b629-129bebfe4716",
   "metadata": {},
   "outputs": [
    {
     "data": {
      "text/plain": [
       "id           0\n",
       "title      558\n",
       "author    1957\n",
       "text        39\n",
       "label        0\n",
       "dtype: int64"
      ]
     },
     "execution_count": 8,
     "metadata": {},
     "output_type": "execute_result"
    }
   ],
   "source": [
    "data.isna().sum()"
   ]
  },
  {
   "cell_type": "code",
   "execution_count": 9,
   "id": "16bb125b-eed3-406c-9985-6d672156f2d3",
   "metadata": {},
   "outputs": [],
   "source": [
    "data.fillna(\" \",inplace=True)"
   ]
  },
  {
   "cell_type": "code",
   "execution_count": 10,
   "id": "0e5b4b84-2349-4747-a014-950efc2a7b49",
   "metadata": {},
   "outputs": [
    {
     "data": {
      "text/plain": [
       "id        0\n",
       "title     0\n",
       "author    0\n",
       "text      0\n",
       "label     0\n",
       "dtype: int64"
      ]
     },
     "execution_count": 10,
     "metadata": {},
     "output_type": "execute_result"
    }
   ],
   "source": [
    "data.isna().sum()"
   ]
  },
  {
   "cell_type": "code",
   "execution_count": 11,
   "id": "c5850571-c433-4241-84f0-15347b81b724",
   "metadata": {},
   "outputs": [
    {
     "data": {
      "text/plain": [
       "label\n",
       "1    10413\n",
       "0    10387\n",
       "Name: count, dtype: int64"
      ]
     },
     "execution_count": 11,
     "metadata": {},
     "output_type": "execute_result"
    }
   ],
   "source": [
    "data[\"label\"].value_counts()"
   ]
  },
  {
   "cell_type": "code",
   "execution_count": 12,
   "id": "1bf3de13-53a8-40ff-ac7d-6c1c1aaee35a",
   "metadata": {},
   "outputs": [
    {
     "data": {
      "image/png": "[encoded data removed]",
      "text/plain": [
       "<Figure size 640x480 with 1 Axes>"
      ]
     },
     "metadata": {},
     "output_type": "display_data"
    }
   ],
   "source": [
    "plt.pie(data[\"label\"].value_counts(),autopct=\"%0.01f%%\",labels=[1,0])\n",
    "plt.legend()\n",
    "plt.title(\"Labels\")\n",
    "plt.show()\n",
    "# From the plot we can declare that the data is labelled"
   ]
  },
  {
   "cell_type": "code",
   "execution_count": 13,
   "id": "71f41755-d4b4-4355-81c6-66db4331b019",
   "metadata": {},
   "outputs": [],
   "source": [
    "data[\"content\"] = data[\"author\"]+\" \"+data[\"title\"]"
   ]
  },
  {
   "cell_type": "code",
   "execution_count": 14,
   "id": "90754eb4-bf4d-436d-be9c-1544231c3278",
   "metadata": {},
   "outputs": [
    {
     "data": {
      "text/html": [
       "<div>\n",
       "<style scoped>\n",
       "    .dataframe tbody tr th:only-of-type {\n",
       "        vertical-align: middle;\n",
       "    }\n",
       "\n",
       "    .dataframe tbody tr th {\n",
       "        vertical-align: top;\n",
       "    }\n",
       "\n",
       "    .dataframe thead th {\n",
       "        text-align: right;\n",
       "    }\n",
       "</style>\n",
       "<table border=\"1\" class=\"dataframe\">\n",
       "  <thead>\n",
       "    <tr style=\"text-align: right;\">\n",
       "      <th></th>\n",
       "      <th>id</th>\n",
       "      <th>title</th>\n",
       "      <th>author</th>\n",
       "      <th>text</th>\n",
       "      <th>label</th>\n",
       "      <th>content</th>\n",
       "    </tr>\n",
       "  </thead>\n",
       "  <tbody>\n",
       "    <tr>\n",
       "      <th>0</th>\n",
       "      <td>0</td>\n",
       "      <td>House Dem Aide: We Didn’t Even See Comey’s Let...</td>\n",
       "      <td>Darrell Lucus</td>\n",
       "      <td>House Dem Aide: We Didn’t Even See Comey’s Let...</td>\n",
       "      <td>1</td>\n",
       "      <td>Darrell Lucus House Dem Aide: We Didn’t Even S...</td>\n",
       "    </tr>\n",
       "    <tr>\n",
       "      <th>1</th>\n",
       "      <td>1</td>\n",
       "      <td>FLYNN: Hillary Clinton, Big Woman on Campus - ...</td>\n",
       "      <td>Daniel J. Flynn</td>\n",
       "      <td>Ever get the feeling your life circles the rou...</td>\n",
       "      <td>0</td>\n",
       "      <td>Daniel J. Flynn FLYNN: Hillary Clinton, Big Wo...</td>\n",
       "    </tr>\n",
       "    <tr>\n",
       "      <th>2</th>\n",
       "      <td>2</td>\n",
       "      <td>Why the Truth Might Get You Fired</td>\n",
       "      <td>Consortiumnews.com</td>\n",
       "      <td>Why the Truth Might Get You Fired October 29, ...</td>\n",
       "      <td>1</td>\n",
       "      <td>Consortiumnews.com Why the Truth Might Get You...</td>\n",
       "    </tr>\n",
       "    <tr>\n",
       "      <th>3</th>\n",
       "      <td>3</td>\n",
       "      <td>15 Civilians Killed In Single US Airstrike Hav...</td>\n",
       "      <td>Jessica Purkiss</td>\n",
       "      <td>Videos 15 Civilians Killed In Single US Airstr...</td>\n",
       "      <td>1</td>\n",
       "      <td>Jessica Purkiss 15 Civilians Killed In Single ...</td>\n",
       "    </tr>\n",
       "    <tr>\n",
       "      <th>4</th>\n",
       "      <td>4</td>\n",
       "      <td>Iranian woman jailed for fictional unpublished...</td>\n",
       "      <td>Howard Portnoy</td>\n",
       "      <td>Print \\nAn Iranian woman has been sentenced to...</td>\n",
       "      <td>1</td>\n",
       "      <td>Howard Portnoy Iranian woman jailed for fictio...</td>\n",
       "    </tr>\n",
       "  </tbody>\n",
       "</table>\n",
       "</div>"
      ],
      "text/plain": [
       "   id                                              title              author  \\\n",
       "0   0  House Dem Aide: We Didn’t Even See Comey’s Let...       Darrell Lucus   \n",
       "1   1  FLYNN: Hillary Clinton, Big Woman on Campus - ...     Daniel J. Flynn   \n",
       "2   2                  Why the Truth Might Get You Fired  Consortiumnews.com   \n",
       "3   3  15 Civilians Killed In Single US Airstrike Hav...     Jessica Purkiss   \n",
       "4   4  Iranian woman jailed for fictional unpublished...      Howard Portnoy   \n",
       "\n",
       "                                                text  label  \\\n",
       "0  House Dem Aide: We Didn’t Even See Comey’s Let...      1   \n",
       "1  Ever get the feeling your life circles the rou...      0   \n",
       "2  Why the Truth Might Get You Fired October 29, ...      1   \n",
       "3  Videos 15 Civilians Killed In Single US Airstr...      1   \n",
       "4  Print \\nAn Iranian woman has been sentenced to...      1   \n",
       "\n",
       "                                             content  \n",
       "0  Darrell Lucus House Dem Aide: We Didn’t Even S...  \n",
       "1  Daniel J. Flynn FLYNN: Hillary Clinton, Big Wo...  \n",
       "2  Consortiumnews.com Why the Truth Might Get You...  \n",
       "3  Jessica Purkiss 15 Civilians Killed In Single ...  \n",
       "4  Howard Portnoy Iranian woman jailed for fictio...  "
      ]
     },
     "execution_count": 14,
     "metadata": {},
     "output_type": "execute_result"
    }
   ],
   "source": [
    "data.head()"
   ]
  },
  {
   "cell_type": "code",
   "execution_count": 15,
   "id": "33f6396f-f29d-489e-b629-76d913d42f70",
   "metadata": {},
   "outputs": [],
   "source": [
    "data.drop(columns=[\"id\",\"title\",\"author\",\"text\"],inplace=True)"
   ]
  },
  {
   "cell_type": "code",
   "execution_count": 16,
   "id": "bd02d930-0504-4e1d-acc0-6d9ef0411f6f",
   "metadata": {},
   "outputs": [
    {
     "data": {
      "text/html": [
       "<div>\n",
       "<style scoped>\n",
       "    .dataframe tbody tr th:only-of-type {\n",
       "        vertical-align: middle;\n",
       "    }\n",
       "\n",
       "    .dataframe tbody tr th {\n",
       "        vertical-align: top;\n",
       "    }\n",
       "\n",
       "    .dataframe thead th {\n",
       "        text-align: right;\n",
       "    }\n",
       "</style>\n",
       "<table border=\"1\" class=\"dataframe\">\n",
       "  <thead>\n",
       "    <tr style=\"text-align: right;\">\n",
       "      <th></th>\n",
       "      <th>label</th>\n",
       "      <th>content</th>\n",
       "    </tr>\n",
       "  </thead>\n",
       "  <tbody>\n",
       "    <tr>\n",
       "      <th>0</th>\n",
       "      <td>1</td>\n",
       "      <td>Darrell Lucus House Dem Aide: We Didn’t Even S...</td>\n",
       "    </tr>\n",
       "    <tr>\n",
       "      <th>1</th>\n",
       "      <td>0</td>\n",
       "      <td>Daniel J. Flynn FLYNN: Hillary Clinton, Big Wo...</td>\n",
       "    </tr>\n",
       "    <tr>\n",
       "      <th>2</th>\n",
       "      <td>1</td>\n",
       "      <td>Consortiumnews.com Why the Truth Might Get You...</td>\n",
       "    </tr>\n",
       "    <tr>\n",
       "      <th>3</th>\n",
       "      <td>1</td>\n",
       "      <td>Jessica Purkiss 15 Civilians Killed In Single ...</td>\n",
       "    </tr>\n",
       "    <tr>\n",
       "      <th>4</th>\n",
       "      <td>1</td>\n",
       "      <td>Howard Portnoy Iranian woman jailed for fictio...</td>\n",
       "    </tr>\n",
       "  </tbody>\n",
       "</table>\n",
       "</div>"
      ],
      "text/plain": [
       "   label                                            content\n",
       "0      1  Darrell Lucus House Dem Aide: We Didn’t Even S...\n",
       "1      0  Daniel J. Flynn FLYNN: Hillary Clinton, Big Wo...\n",
       "2      1  Consortiumnews.com Why the Truth Might Get You...\n",
       "3      1  Jessica Purkiss 15 Civilians Killed In Single ...\n",
       "4      1  Howard Portnoy Iranian woman jailed for fictio..."
      ]
     },
     "execution_count": 16,
     "metadata": {},
     "output_type": "execute_result"
    }
   ],
   "source": [
    "data.head()"
   ]
  },
  {
   "cell_type": "code",
   "execution_count": null,
   "id": "e6155511-3650-47d0-b8c5-ba5eb8adf75e",
   "metadata": {},
   "outputs": [],
   "source": []
  },
  {
   "cell_type": "code",
   "execution_count": null,
   "id": "9e73fba1-1392-4b12-9b85-27eabbcd7177",
   "metadata": {},
   "outputs": [],
   "source": []
  },
  {
   "cell_type": "code",
   "execution_count": 17,
   "id": "abee4f2b-4cb2-485c-a777-44d256936e81",
   "metadata": {},
   "outputs": [
    {
     "name": "stderr",
     "output_type": "stream",
     "text": [
      "[nltk_data] Downloading package stopwords to\n",
      "[nltk_data]     C:\\Users\\hasee\\AppData\\Roaming\\nltk_data...\n",
      "[nltk_data]   Package stopwords is already up-to-date!\n"
     ]
    }
   ],
   "source": [
    "import nltk\n",
    "import re\n",
    "nltk.download(\"stopwords\")\n",
    "from nltk.corpus import stopwords\n",
    "ps = PorterStemmer()\n",
    "stopword= stopwords.words(\"english\")"
   ]
  },
  {
   "cell_type": "code",
   "execution_count": 46,
   "id": "18ad95eb-f658-42ed-a6ee-887475703257",
   "metadata": {},
   "outputs": [],
   "source": [
    "#---lower case\n",
    "#---port stemmer\n",
    "#---stopword remove\n",
    "def convert(text):\n",
    "    if isinstance(text, bytes):\n",
    "            text = text.decode(\"utf-8\")  # Ensure input is a string\n",
    "    doc = re.sub('[^a-zA-Z\"]',\" \",text)\n",
    "    doc = doc.lower()\n",
    "    doc = \" \".join(ps.stem(word)for word in doc.split() if word not in stopword)\n",
    "    return doc"
   ]
  },
  {
   "cell_type": "code",
   "execution_count": 202,
   "id": "b6454127-f7eb-4ffe-ba10-48884a395759",
   "metadata": {},
   "outputs": [],
   "source": [
    "# def convert(text):\n",
    "#     \"\"\"Convert list of texts using preprocessing\"\"\"\n",
    "#     return text.astype(str).apply(lambda text: \" \".join(\n",
    "#         ps.stem(word) for word in re.sub(r'[^a-zA-Z]', \" \", text.lower()).split() if word not in stopword\n",
    "#     ))"
   ]
  },
  {
   "cell_type": "code",
   "execution_count": 47,
   "id": "198ed6c8-d62f-4753-83f8-4dbb1b850398",
   "metadata": {},
   "outputs": [],
   "source": [
    "data[\"content\"] = data[\"content\"].apply(convert)"
   ]
  },
  {
   "cell_type": "code",
   "execution_count": 48,
   "id": "65ec3284-717f-4772-bd82-05668e0569e6",
   "metadata": {},
   "outputs": [],
   "source": [
    "x = data[\"content\"].values\n",
    "y = data[\"label\"].values"
   ]
  },
  {
   "cell_type": "code",
   "execution_count": 49,
   "id": "17645b40-3531-43ec-9ab6-e865023ebd3b",
   "metadata": {},
   "outputs": [],
   "source": [
    "tfidf = TfidfVectorizer(max_features=1000)\n",
    "x_trans = tfidf.fit_transform(x).toarray()"
   ]
  },
  {
   "cell_type": "markdown",
   "id": "847bbe75-8432-4391-ac0b-581c7d34afc8",
   "metadata": {},
   "source": [
    "## Builiding Machine Learning Model"
   ]
  },
  {
   "cell_type": "code",
   "execution_count": 29,
   "id": "2d98ece2-39c4-44fe-b7e4-7b949f3be461",
   "metadata": {},
   "outputs": [],
   "source": [
    "x_train,x_test,y_train,y_test = train_test_split(x_trans,y,test_size=0.2,random_state=42)"
   ]
  },
  {
   "cell_type": "code",
   "execution_count": 30,
   "id": "55738130-bd3f-4a00-a9d1-fb83a9bff8c4",
   "metadata": {},
   "outputs": [],
   "source": [
    "from sklearn.model_selection import cross_val_score"
   ]
  },
  {
   "cell_type": "markdown",
   "id": "b03c7bae-5c47-4371-9e8a-bedb949d39e4",
   "metadata": {},
   "source": [
    "## Gaussian Naive Bayes"
   ]
  },
  {
   "cell_type": "code",
   "execution_count": 31,
   "id": "f30dfdf6-3bbb-4082-bd98-35cd2fc3aac7",
   "metadata": {},
   "outputs": [
    {
     "name": "stdout",
     "output_type": "stream",
     "text": [
      "accuracy score with NB is : 0.911298076923077\n",
      "Percision score with NB is : 0.8732741617357002\n"
     ]
    }
   ],
   "source": [
    "nb = GaussianNB()\n",
    "nb.fit(x_train,y_train)\n",
    "y_pred = nb.predict(x_test)\n",
    "print(\"accuracy score with NB is :\",accuracy_score(y_pred,y_test))\n",
    "print(\"Percision score with NB is :\",precision_score(y_pred,y_test))"
   ]
  },
  {
   "cell_type": "code",
   "execution_count": 32,
   "id": "ef133264-3c2a-4bfb-b1cd-6ee143e97ef5",
   "metadata": {},
   "outputs": [
    {
     "name": "stdout",
     "output_type": "stream",
     "text": [
      "0.9092548076923077\n"
     ]
    }
   ],
   "source": [
    "score = cross_val_score(nb,x_train,y_train,cv=5)\n",
    "print(score.mean())"
   ]
  },
  {
   "cell_type": "markdown",
   "id": "b6db7c7e-d55d-4246-adf9-982f24471843",
   "metadata": {},
   "source": [
    "## Random Forest Ensemble"
   ]
  },
  {
   "cell_type": "code",
   "execution_count": 195,
   "id": "3f06f455-c96f-477b-8e4e-d5305e846efb",
   "metadata": {},
   "outputs": [
    {
     "name": "stdout",
     "output_type": "stream",
     "text": [
      "accuracy score with Random Forest is : 0.9810096153846154\n",
      "Percision score with Random forest is : 0.992603550295858\n"
     ]
    }
   ],
   "source": [
    "rf = RandomForestClassifier(n_jobs=-1,n_estimators=50)\n",
    "rf.fit(x_train,y_train)\n",
    "y_pred = rf.predict(x_test)\n",
    "print(\"accuracy score with Random Forest is :\",accuracy_score(y_pred,y_test))\n",
    "print(\"Percision score with Random forest is :\",precision_score(y_pred,y_test))"
   ]
  },
  {
   "cell_type": "code",
   "execution_count": 197,
   "id": "e94da8c8-237f-41b3-9533-aa5f60a4ce0a",
   "metadata": {},
   "outputs": [
    {
     "name": "stdout",
     "output_type": "stream",
     "text": [
      "0.9834134615384615\n"
     ]
    }
   ],
   "source": [
    "score = cross_val_score(rf,x_train,y_train,cv=5)\n",
    "print(score.mean())"
   ]
  },
  {
   "cell_type": "markdown",
   "id": "141f9489-8a1d-4e33-9293-c8ac77762d14",
   "metadata": {},
   "source": [
    "## Logistic Regression"
   ]
  },
  {
   "cell_type": "code",
   "execution_count": 196,
   "id": "7c0bbb0b-1303-4f32-b486-40c533c8e079",
   "metadata": {},
   "outputs": [
    {
     "name": "stdout",
     "output_type": "stream",
     "text": [
      "accuracy score with logistic Regression is : 0.9680288461538461\n",
      "Percision score with Logistic Regression is : 0.9847140039447732\n"
     ]
    }
   ],
   "source": [
    "from sklearn.linear_model import LogisticRegression\n",
    "lr = LogisticRegression()\n",
    "lr.fit(x_train,y_train)\n",
    "y_pred = lr.predict(x_test)\n",
    "print(\"accuracy score with logistic Regression is :\",accuracy_score(y_pred,y_test))\n",
    "print(\"Percision score with Logistic Regression is :\",precision_score(y_pred,y_test))"
   ]
  },
  {
   "cell_type": "markdown",
   "id": "6a2774e5-09ab-4fe4-809b-7856f88332a5",
   "metadata": {},
   "source": [
    "## Hyperparameter Tunning(GridSearchCV)"
   ]
  },
  {
   "cell_type": "code",
   "execution_count": 235,
   "id": "25f67006-8ea9-4bb5-86eb-5aef9bc337e7",
   "metadata": {},
   "outputs": [
    {
     "name": "stdout",
     "output_type": "stream",
     "text": [
      "{'bootstrap': True, 'max_features': 0.1, 'max_samples': 0.5, 'n_estimators': 40}\n"
     ]
    }
   ],
   "source": [
    "from sklearn.model_selection import GridSearchCV\n",
    "params = {\n",
    "    \"n_estimators\":[40,50,100],\n",
    "    \"max_samples\":[0.25,0.5],\n",
    "    \"bootstrap\":[True],\n",
    "    \"max_features\":[0.1,0.5,1]\n",
    "}\n",
    "grid = GridSearchCV(RandomForestClassifier(n_jobs=-1),params,cv=5,scoring=\"accuracy\")\n",
    "grid.fit(x_trans,y)\n",
    "print(grid.best_params_)"
   ]
  },
  {
   "cell_type": "markdown",
   "id": "cd69fbfc-b6b0-4a68-845e-22a19da57d33",
   "metadata": {},
   "source": [
    "# Using Pipline and FunctionTransformer"
   ]
  },
  {
   "cell_type": "code",
   "execution_count": 91,
   "id": "8a80629b-b1e4-43b5-829d-66224a12b9bf",
   "metadata": {},
   "outputs": [
    {
     "name": "stderr",
     "output_type": "stream",
     "text": [
      "[nltk_data] Downloading package stopwords to\n",
      "[nltk_data]     C:\\Users\\hasee\\AppData\\Roaming\\nltk_data...\n",
      "[nltk_data]   Package stopwords is already up-to-date!\n"
     ]
    }
   ],
   "source": [
    "from text_processing import convert "
   ]
  },
  {
   "cell_type": "code",
   "execution_count": 81,
   "id": "452b8336-27ed-4b10-a533-880437c2edba",
   "metadata": {},
   "outputs": [],
   "source": [
    "from nltk.stem import WordNetLemmatizer\n",
    "nltk.download('wordnet')\n",
    "def process_text(text):\n",
    "    ps = PorterStemmer()\n",
    "    stopword= stopwords.words(\"english\")\n",
    "    text = re.sub(r'[^a-zA-Z\"]', \" \", text)  # Remove non-alphabetic characters\n",
    "    text = text.lower()\n",
    "    text = \" \".join(ps.stem(word) for word in text.split() if word not in stopword)\n",
    "    return text\n",
    "\n",
    "def convert(text_series):\n",
    "    \"\"\"Convert text data by applying stemming and removing stopwords\"\"\"\n",
    "    # Convert list input to Pandas Series\n",
    "    text_series = pd.Series(text_series) if isinstance(text_series, list) else text_series\n",
    "    \n",
    "    return text_series.astype(str).apply(lambda text: process_text(text))"
   ]
  },
  {
   "cell_type": "code",
   "execution_count": 92,
   "id": "9582e71b-a5a0-4b48-bce9-0bf77abd5a62",
   "metadata": {},
   "outputs": [
    {
     "data": {
      "text/html": [
       "<div>\n",
       "<style scoped>\n",
       "    .dataframe tbody tr th:only-of-type {\n",
       "        vertical-align: middle;\n",
       "    }\n",
       "\n",
       "    .dataframe tbody tr th {\n",
       "        vertical-align: top;\n",
       "    }\n",
       "\n",
       "    .dataframe thead th {\n",
       "        text-align: right;\n",
       "    }\n",
       "</style>\n",
       "<table border=\"1\" class=\"dataframe\">\n",
       "  <thead>\n",
       "    <tr style=\"text-align: right;\">\n",
       "      <th></th>\n",
       "      <th>label</th>\n",
       "      <th>content</th>\n",
       "    </tr>\n",
       "  </thead>\n",
       "  <tbody>\n",
       "    <tr>\n",
       "      <th>0</th>\n",
       "      <td>1</td>\n",
       "      <td>darrel lucu hou dem aid even see comey letter ...</td>\n",
       "    </tr>\n",
       "    <tr>\n",
       "      <th>1</th>\n",
       "      <td>0</td>\n",
       "      <td>daniel j flynn flynn hillari clinton big woman...</td>\n",
       "    </tr>\n",
       "    <tr>\n",
       "      <th>2</th>\n",
       "      <td>1</td>\n",
       "      <td>consortiumnew com truth might get fire</td>\n",
       "    </tr>\n",
       "    <tr>\n",
       "      <th>3</th>\n",
       "      <td>1</td>\n",
       "      <td>jessica purkiss civilian kill singl us airstri...</td>\n",
       "    </tr>\n",
       "    <tr>\n",
       "      <th>4</th>\n",
       "      <td>1</td>\n",
       "      <td>howard portnoy iranian woman jail fiction unpu...</td>\n",
       "    </tr>\n",
       "  </tbody>\n",
       "</table>\n",
       "</div>"
      ],
      "text/plain": [
       "   label                                            content\n",
       "0      1  darrel lucu hou dem aid even see comey letter ...\n",
       "1      0  daniel j flynn flynn hillari clinton big woman...\n",
       "2      1             consortiumnew com truth might get fire\n",
       "3      1  jessica purkiss civilian kill singl us airstri...\n",
       "4      1  howard portnoy iranian woman jail fiction unpu..."
      ]
     },
     "execution_count": 92,
     "metadata": {},
     "output_type": "execute_result"
    }
   ],
   "source": [
    "data.head()"
   ]
  },
  {
   "cell_type": "code",
   "execution_count": 93,
   "id": "dff28a85-f1d1-4f62-8b71-14e25c9019f1",
   "metadata": {},
   "outputs": [],
   "source": [
    "x1=data[\"content\"]\n",
    "y1 =data[\"label\"] "
   ]
  },
  {
   "cell_type": "code",
   "execution_count": 94,
   "id": "770f00ae-659a-4702-b1f1-9d769839fcb8",
   "metadata": {},
   "outputs": [],
   "source": [
    "x_train,x_test,y_train,y_test = train_test_split(x1,y1,test_size=0.2,random_state=42)"
   ]
  },
  {
   "cell_type": "code",
   "execution_count": 95,
   "id": "28dcfe46-982c-4c8d-8a37-48b8701fcb33",
   "metadata": {},
   "outputs": [],
   "source": [
    "from sklearn.preprocessing import FunctionTransformer\n",
    "from sklearn.pipeline import Pipeline"
   ]
  },
  {
   "cell_type": "code",
   "execution_count": 96,
   "id": "5ace2563-d17a-4a7d-985a-2ee062e65023",
   "metadata": {},
   "outputs": [],
   "source": [
    "trans = FunctionTransformer(convert)"
   ]
  },
  {
   "cell_type": "code",
   "execution_count": 97,
   "id": "9d37566e-788f-4747-b250-2bff98fcb1f3",
   "metadata": {},
   "outputs": [],
   "source": [
    "pipe = Pipeline([\n",
    "    (\"text_claeaning\",trans),\n",
    "    (\"text-vector\",TfidfVectorizer()),\n",
    "    (\"classifier\", RandomForestClassifier(n_estimators=100, random_state=42))\n",
    "                ])\n",
    "                "
   ]
  },
  {
   "cell_type": "code",
   "execution_count": 98,
   "id": "8ea33860-3b46-4973-b99d-855a8566d4f5",
   "metadata": {},
   "outputs": [
    {
     "name": "stdout",
     "output_type": "stream",
     "text": [
      "acuracy score is : 0.9923076923076923\n",
      "precision score is : 0.9940828402366864\n"
     ]
    }
   ],
   "source": [
    "pipe.fit(x_train,y_train)\n",
    "y_pred = pipe.predict(x_test)\n",
    "print(\"acuracy score is :\",accuracy_score(y_pred,y_test))\n",
    "print(\"precision score is :\",precision_score(y_pred,y_test))"
   ]
  },
  {
   "cell_type": "markdown",
   "id": "6034207b-36f4-432c-a4bb-c9ea914c2b9b",
   "metadata": {},
   "source": [
    "## Exporting Pipeline"
   ]
  },
  {
   "cell_type": "code",
   "execution_count": 99,
   "id": "23b6360e-4423-4e11-87c3-db104d70afcf",
   "metadata": {},
   "outputs": [],
   "source": [
    "import pickle\n",
    "with open(\"pipeline1.pkl\", \"wb\") as f:\n",
    "    pickle.dump(pipe, f)"
   ]
  },
  {
   "cell_type": "code",
   "execution_count": 239,
   "id": "305401ca-1c4b-4e42-9238-a39edc4c7940",
   "metadata": {},
   "outputs": [
    {
     "data": {
      "text/plain": [
       "['fake_news_detection.pkl']"
      ]
     },
     "execution_count": 239,
     "metadata": {},
     "output_type": "execute_result"
    }
   ],
   "source": [
    "import joblib\n",
    "joblib.dump(pipe,\"fake_news_detection.pkl\")"
   ]
  },
  {
   "cell_type": "code",
   "execution_count": null,
   "id": "d0c45b13-03f3-4e31-8693-b5e4070a7b11",
   "metadata": {},
   "outputs": [],
   "source": []
  },
  {
   "cell_type": "markdown",
   "id": "2782c33d-6af7-407d-bbb7-f925d7ad9b73",
   "metadata": {},
   "source": [
    "# Using LSTM"
   ]
  },
  {
   "cell_type": "code",
   "execution_count": null,
   "id": "8311617e-7815-4cc0-86bb-ab351940bdae",
   "metadata": {},
   "outputs": [],
   "source": [
    "from scikeras.wrappers import KerasClassifier\n",
    "from tensorflow.keras.models import Sequential\n",
    "from tensorflow.keras.layers import LSTM, Dense, Embedding, SpatialDropout1D\n",
    "from tensorflow.keras.preprocessing.sequence import pad_sequences"
   ]
  },
  {
   "cell_type": "code",
   "execution_count": null,
   "id": "9b9458bd-7707-438b-a4e1-2f9f21e5b7c5",
   "metadata": {},
   "outputs": [],
   "source": [
    "def create_lstm_model(max_words=5000, max_len=100, embedding_dim=100):\n",
    "    model = Sequential([\n",
    "        Embedding(max_words, embedding_dim, input_length=max_len),\n",
    "        SpatialDropout1D(0.2),\n",
    "        LSTM(100, dropout=0.2, recurrent_dropout=0.2),\n",
    "        Dense(1, activation='sigmoid')  # Binary classification\n",
    "    ])\n",
    "    model.compile(loss='binary_crossentropy', optimizer='adam', metrics=['accuracy'])\n",
    "    return model"
   ]
  },
  {
   "cell_type": "code",
   "execution_count": null,
   "id": "7845f34f-6f03-46a9-9f52-62eb28c6e397",
   "metadata": {},
   "outputs": [],
   "source": [
    "tokenizer = Tokenizer(num_words=5000)\n",
    "\n",
    "\n",
    "def preprocess_text(texts):\n",
    "    \"\"\"Tokenize text data\"\"\"\n",
    "    return tokenizer.texts_to_sequences(texts)\n",
    "    \n",
    "\n",
    "pipe = Pipeline([\n",
    "    (\"text_cleaning\", FunctionTransformer()),  # Preprocess text\n",
    "    (\"classifier\", KerasClassifier(model=create_lstm_model, epochs=3, batch_size=32, verbose=1))\n",
    "])"
   ]
  },
  {
   "cell_type": "code",
   "execution_count": null,
   "id": "13ef275a-4ef6-4c91-8ed2-5463c84f9377",
   "metadata": {},
   "outputs": [],
   "source": []
  },
  {
   "cell_type": "code",
   "execution_count": null,
   "id": "46cb957d-16b0-438f-ba67-1458ae6e2781",
   "metadata": {},
   "outputs": [],
   "source": []
  }
 ],
 "metadata": {
  "kernelspec": {
   "display_name": "Python 3 (ipykernel)",
   "language": "python",
   "name": "python3"
  },
  "language_info": {
   "codemirror_mode": {
    "name": "ipython",
    "version": 3
   },
   "file_extension": ".py",
   "mimetype": "text/x-python",
   "name": "python",
   "nbconvert_exporter": "python",
   "pygments_lexer": "ipython3",
   "version": "3.12.7"
  }
 },
 "nbformat": 4,
 "nbformat_minor": 5
}
